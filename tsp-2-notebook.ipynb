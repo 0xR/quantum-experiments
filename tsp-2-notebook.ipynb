{
 "cells": [
  {
   "cell_type": "code",
   "execution_count": null,
   "id": "67b2c147",
   "metadata": {},
   "outputs": [],
   "source": [
    "# Updated imports for Qiskit 1.0+\n",
    "from qiskit_algorithms import NumPyMinimumEigensolver\n",
    "from qiskit_optimization.applications import Tsp\n",
    "from qiskit_optimization.algorithms import MinimumEigenOptimizer\n",
    "import numpy as np\n",
    "\n",
    "number_of_cities = 4\n",
    "\n",
    "# Create a random distance matrix with integers between 0 and 100 (symmetric)\n",
    "# distances[i][j] represents the distance between city i and city j\n",
    "np.random.seed(42)  # For reproducibility\n",
    "distances = np.random.randint(1, 101, size=(number_of_cities, number_of_cities))\n",
    "distances = (distances + distances.T) // 2  # Make symmetric and ensure integers\n",
    "np.fill_diagonal(distances, 0)  # Distance to same city is 0\n",
    "\n",
    "tsp = Tsp(distances)\n",
    "qp = tsp.to_quadratic_program()\n",
    "\n",
    "# Solve with classical backend\n",
    "exact_solver = MinimumEigenOptimizer(NumPyMinimumEigensolver())\n",
    "result = exact_solver.solve(qp)\n",
    "\n",
    "print(\"Optimal route:\", tsp.interpret(result))\n"
   ]
  },
  {
   "cell_type": "code",
   "execution_count": null,
   "id": "e1e5ea29",
   "metadata": {},
   "outputs": [],
   "source": [
    "import numpy as np\n",
    "import matplotlib.pyplot as plt\n",
    "import networkx as nx\n",
    "\n",
    "# Visualize the cities as a graph\n",
    "graph = nx.from_numpy_array(distances)\n",
    "pos = nx.spring_layout(graph)\n",
    "nx.draw(graph, pos, with_labels=True)\n",
    "labels = nx.get_edge_attributes(graph, 'weight')\n",
    "nx.draw_networkx_edge_labels(graph, pos, edge_labels=labels)\n",
    "plt.show()"
   ]
  },
  {
   "cell_type": "code",
   "execution_count": null,
   "id": "88b2afb4",
   "metadata": {},
   "outputs": [],
   "source": [
    "from itertools import permutations\n",
    "\n",
    "# Get the quantum solution route\n",
    "quantum_route = tsp.interpret(result)\n",
    "\n",
    "# Calculate quantum solution cost\n",
    "quantum_cost = sum(distances[quantum_route[i]][quantum_route[(i + 1) % number_of_cities]] \n",
    "                  for i in range(number_of_cities))\n",
    "\n",
    "# Calculate cost for all possible routes\n",
    "all_routes = list(permutations(range(number_of_cities)))\n",
    "route_costs = []\n",
    "\n",
    "for route in all_routes:\n",
    "    cost = 0\n",
    "    for i in range(number_of_cities):\n",
    "        cost += distances[route[i]][route[(i + 1) % number_of_cities]]\n",
    "    route_costs.append((route, cost))\n",
    "\n",
    "# Sort routes by cost\n",
    "route_costs.sort(key=lambda x: x[1])\n",
    "\n",
    "print(\"All possible routes and their costs:\")\n",
    "for route, cost in route_costs:\n",
    "    is_quantum = (list(route) == quantum_route)\n",
    "    print(f\"Route {list(route)}: Cost {cost} {'← Quantum solution' if is_quantum else ''}\")\n",
    "\n",
    "print(\"\\nQuantum solution:\")\n",
    "print(f\"Route {quantum_route}: Cost {quantum_cost}\")\n",
    "\n",
    "print(\"\\nBest possible solution:\")\n",
    "print(f\"Route {list(route_costs[0][0])}: Cost {route_costs[0][1]}\")\n",
    "\n",
    "if quantum_cost == route_costs[0][1]:\n",
    "    print(\"\\n✅ Quantum solution found the optimal route!\")\n",
    "else:\n",
    "    print(\"\\n❌ Quantum solution did not find the optimal route\")\n",
    "    print(f\"Difference from optimal: {quantum_cost - route_costs[0][1]}\")"
   ]
  }
 ],
 "metadata": {
  "kernelspec": {
   "display_name": ".venv",
   "language": "python",
   "name": "python3"
  },
  "language_info": {
   "codemirror_mode": {
    "name": "ipython",
    "version": 3
   },
   "file_extension": ".py",
   "mimetype": "text/x-python",
   "name": "python",
   "nbconvert_exporter": "python",
   "pygments_lexer": "ipython3",
   "version": "3.12.9"
  }
 },
 "nbformat": 4,
 "nbformat_minor": 5
}
