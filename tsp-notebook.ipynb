{
 "cells": [
  {
   "cell_type": "markdown",
   "id": "f8dbfd3b",
   "metadata": {},
   "source": [
    "# Quantum Traveling Salesman Problem Solver\n",
    "\n",
    "This notebook implements a quantum solution for the Traveling Salesman Problem (TSP) using Qiskit.\n",
    "The TSP is about finding the shortest possible route that visits each city exactly once and returns to the origin city.\n",
    "\n",
    "We'll use the Quantum Approximate Optimization Algorithm (QAOA) approach."
   ]
  },
  {
   "cell_type": "code",
   "execution_count": null,
   "id": "5f087de8",
   "metadata": {},
   "outputs": [],
   "source": [
    "import numpy as np\n",
    "from qiskit import QuantumCircuit, Aer, execute\n",
    "from qiskit.algorithms import QAOA\n",
    "from qiskit.algorithms.optimizers import COBYLA\n",
    "from qiskit.utils import QuantumInstance\n",
    "import networkx as nx\n",
    "import matplotlib.pyplot as plt"
   ]
  },
  {
   "cell_type": "markdown",
   "id": "74d34164",
   "metadata": {},
   "source": [
    "## Problem Setup\n",
    "\n",
    "First, we'll create a small example problem with 4 cities.\n",
    "The distances between cities are represented using an adjacency matrix."
   ]
  },
  {
   "cell_type": "code",
   "execution_count": null,
   "id": "09fbc16e",
   "metadata": {},
   "outputs": [],
   "source": [
    "# Define cities and their distances\n",
    "number_of_cities = 4\n",
    "\n",
    "# Create a random distance matrix (symmetric)\n",
    "# distances[i][j] represents the distance between city i and city j\n",
    "np.random.seed(42)  # For reproducibility\n",
    "distances = np.random.rand(number_of_cities, number_of_cities)\n",
    "distances = (distances + distances.T) / 2  # Make symmetric\n",
    "np.fill_diagonal(distances, 0)  # Distance to same city is 0\n",
    "\n",
    "# Visualize the cities as a graph\n",
    "graph = nx.from_numpy_array(distances)\n",
    "pos = nx.spring_layout(graph)\n",
    "nx.draw(graph, pos, with_labels=True)\n",
    "labels = nx.get_edge_attributes(graph, 'weight')\n",
    "nx.draw_networkx_edge_labels(graph, pos, edge_labels=labels)\n",
    "plt.show()"
   ]
  },
  {
   "cell_type": "markdown",
   "id": "c83f66ab",
   "metadata": {},
   "source": [
    "## Quantum Circuit Implementation\n",
    "\n",
    "We'll encode the TSP into a Quantum Approximate Optimization Algorithm (QAOA) problem.\n",
    "The encoding uses binary variables x_{i,p} where:\n",
    "- i represents the city\n",
    "- p represents the position in the tour\n",
    "\n",
    "Constraints:\n",
    "1. Each city must be visited exactly once\n",
    "2. Each position must be used exactly once\n",
    "3. The total distance should be minimized"
   ]
  },
  {
   "cell_type": "code",
   "execution_count": null,
   "id": "b927b28c",
   "metadata": {},
   "outputs": [],
   "source": [
    "def create_tsp_quantum_circuit(distances, number_of_qubits):\n",
    "    \"\"\"\n",
    "    Creates a quantum circuit for solving the TSP problem.\n",
    "    \n",
    "    Args:\n",
    "        distances (np.array): Matrix of distances between cities\n",
    "        number_of_qubits (int): Number of qubits needed for encoding\n",
    "        \n",
    "    Returns:\n",
    "        QuantumCircuit: Circuit implementing the TSP problem\n",
    "    \"\"\"\n",
    "    # Create quantum circuit with required number of qubits\n",
    "    quantum_circuit = QuantumCircuit(number_of_qubits)\n",
    "    \n",
    "    # Create initial superposition\n",
    "    for qubit in range(number_of_qubits):\n",
    "        quantum_circuit.h(qubit)\n",
    "    \n",
    "    # Add problem constraints (simplified version)\n",
    "    # In a full implementation, we would add more gates to enforce:\n",
    "    # - One-hot encoding for city positions\n",
    "    # - Valid tour constraints\n",
    "    # - Distance minimization objective\n",
    "    \n",
    "    return quantum_circuit\n",
    "\n",
    "# Calculate required number of qubits\n",
    "# We need log2(number_of_cities!) qubits for a full implementation\n",
    "# For simplicity, we'll use number_of_cities^2 qubits here\n",
    "number_of_qubits = number_of_cities * number_of_cities\n",
    "\n",
    "# Create quantum circuit\n",
    "quantum_circuit = create_tsp_quantum_circuit(distances, number_of_qubits)\n",
    "\n",
    "# Set up the quantum instance using Aer's QASM simulator\n",
    "quantum_backend = Aer.get_backend('qasm_simulator')\n",
    "quantum_instance = QuantumInstance(quantum_backend, shots=1000)\n",
    "\n",
    "# Display the circuit\n",
    "print(\"Quantum Circuit for TSP:\")\n",
    "quantum_circuit.draw()"
   ]
  },
  {
   "cell_type": "markdown",
   "id": "364fc8ca",
   "metadata": {},
   "source": [
    "## Execute the Quantum Circuit\n",
    "\n",
    "Now we'll run the circuit and analyze the results.\n",
    "Note: This is a simplified implementation. A full TSP solution would require:\n",
    "1. More sophisticated qubit encoding\n",
    "2. Additional constraints for valid tours\n",
    "3. Problem-specific mixing operators\n",
    "4. Post-processing to ensure valid solutions"
   ]
  },
  {
   "cell_type": "code",
   "execution_count": null,
   "id": "9b0b8c5d",
   "metadata": {},
   "outputs": [],
   "source": [
    "# Execute the circuit\n",
    "job = execute(quantum_circuit, quantum_backend, shots=1000)\n",
    "result = job.result()\n",
    "\n",
    "# Get the counts of measurement results\n",
    "counts = result.get_counts(quantum_circuit)\n",
    "\n",
    "# Post-process the results\n",
    "def interpret_bitstring(bitstring, number_of_cities):\n",
    "    \"\"\"\n",
    "    Convert a measurement bitstring into a possible tour.\n",
    "    This is a simplified interpretation - a full implementation would need more sophisticated decoding.\n",
    "    \"\"\"\n",
    "    # Reshape the bitstring into a matrix\n",
    "    bits = [int(bit) for bit in bitstring]\n",
    "    matrix = np.array(bits).reshape(number_of_cities, number_of_cities)\n",
    "    \n",
    "    # Try to extract a valid tour (simplified)\n",
    "    tour = []\n",
    "    for position in range(number_of_cities):\n",
    "        city_bits = matrix[:, position]\n",
    "        if 1 in city_bits:\n",
    "            tour.append(np.where(city_bits == 1)[0][0])\n",
    "    return tour if len(tour) == number_of_cities else None\n",
    "\n",
    "# Analyze results\n",
    "print(\"\\nPossible Tours:\")\n",
    "valid_tours = 0\n",
    "for bitstring, count in counts.items():\n",
    "    tour = interpret_bitstring(bitstring, number_of_cities)\n",
    "    if tour is not None:\n",
    "        # Calculate tour distance\n",
    "        tour_distance = sum(distances[tour[i]][tour[(i+1)%number_of_cities]] \n",
    "                          for i in range(number_of_cities))\n",
    "        print(f\"Tour {tour}: Distance {tour_distance:.2f} (Found {count} times)\")\n",
    "        valid_tours += count\n",
    "\n",
    "print(f\"\\nFound {valid_tours} valid tours out of 1000 measurements\")\n",
    "\n",
    "# Note: Due to the simplified implementation, many measurements\n",
    "# might not correspond to valid tours. A full implementation would\n",
    "# use additional quantum gates and constraints to ensure valid solutions."
   ]
  }
 ],
 "metadata": {
  "kernelspec": {
   "display_name": ".venv",
   "language": "python",
   "name": "python3"
  },
  "language_info": {
   "codemirror_mode": {
    "name": "ipython",
    "version": 3
   },
   "file_extension": ".py",
   "mimetype": "text/x-python",
   "name": "python",
   "nbconvert_exporter": "python",
   "pygments_lexer": "ipython3",
   "version": "3.12.9"
  }
 },
 "nbformat": 4,
 "nbformat_minor": 5
}
